{
 "cells": [
  {
   "cell_type": "markdown",
   "metadata": {},
   "source": [
    "***Méthodes numériques:Module 1.***\n",
    "*********************************\n",
    "Modélisation du vol d'une fusée.\n",
    "==\n",
    "### But #\n",
    "\n",
    "\n",
    "Calculer, selon la méthode d'Euler, la trajectoire et la vitesse d'une fusée qui possède une certaine masse de carburant initiale et qui la consume à un taux constant, de son lancer jusqu'à l'impact avec le sol."
   ]
  },
  {
   "cell_type": "code",
   "execution_count": 153,
   "metadata": {
    "collapsed": false
   },
   "outputs": [],
   "source": [
    "import numpy\n",
    "from matplotlib import pyplot\n",
    "%matplotlib inline"
   ]
  },
  {
   "cell_type": "markdown",
   "metadata": {},
   "source": [
    "### Principe #\n",
    "\n",
    "\n",
    "Les équations différentielles de ce problème sont:  \n",
    "*$$\\frac{dh}{dt}=v$$ \n",
    "*$$\\frac{dv}{dt}=-g+\\frac{\\dot{m_{p}}}{m_{s}+m{p}}ve - \\frac{1}{2}\\frac{\\rho v \\mid{v}\\mid AC_{D}}{mp+ms}$$\n",
    "\n",
    "où\n",
    "* mp est la masse de carburant donnée par $$m_p = m_{po} - \\int^t_0 \\dot{m}_p d\\tau$$\n",
    "* $\\dot{mp}$ est le taux de consommation du carburant, qui vaut 20 $\\frac{kg}{s}$ entre t=0.0 et t=5.0 et qui vaut 0 $\\frac{kg}{s}$ ensuite.  \n",
    "* $\\rho$ est la masse volumique de l'air (supposée constante)\n",
    "* g est la constante gravitationnelle g=9.81 $\\frac{m}{s^2}$\n",
    "* ms est la masse de la fusée\n",
    "* A est la section maximale de la fusée (donnée par $\\pi*r²$)\n",
    "* CD est le coefficient de traînée\n",
    "* ve est la vitesse limite \n",
    "* v est la vitesse de la fusée\n",
    "* h est la hauteur de la fusée\n",
    "\n",
    "D'après la méthode d'Euler, on peut résoudre numériquement ces équations à partir des valeurs initiales d'altitude et de vitesse en avançant par pas de t=dt.\n",
    "*$$ h_{n+1}=h_{n}+v_{n}dt$$ \n",
    "*$$v_{n+1}=v_{n}+dt*(-g+\\frac{\\dot{m_{p}}}{m_{s}+m{p}}ve - \\frac{1}{2}\\frac{\\rho v \\mid{v}\\mid AC_{D}}{ms+mp})$$\n",
    "Nous allons calculer les valeurs de h(altitude de la fusée) et v(vitesse) entre t=0 et t=T(temps final où la fusée se crashe) toutes les dt=0.1s et les reporter dans un tableau et dans deux graphiques: altitude en fonction du temps et vitesse en fonction du temps. Nous pourrons ensuite répondre aux questions posées dans le problème."
   ]
  },
  {
   "cell_type": "markdown",
   "metadata": {
    "collapsed": true
   },
   "source": [
    "### Paramètres du problème #"
   ]
  },
  {
   "cell_type": "code",
   "execution_count": 154,
   "metadata": {
    "collapsed": false
   },
   "outputs": [],
   "source": [
    "g=9.81\n",
    "p=1.091\n",
    "r=0.5\n",
    "A=numpy.pi*r**2\n",
    "ve=325.0\n",
    "ms=50.0\n",
    "CD=0.15\n",
    "dt=0.1\n",
    "N=1000\n",
    "v=numpy.zeros(N)\n",
    "h=numpy.zeros(N)\n",
    "t=numpy.zeros(N)\n",
    "v[0]=0.0\n",
    "h[0]=0.0\n",
    "t[0]=0.0"
   ]
  },
  {
   "cell_type": "markdown",
   "metadata": {},
   "source": [
    "En plus des données initiales et paramètres donnés, nous créons trois listes qui serviront à stocker les données récoltées pour le temps t, l'altitude h et la vitesse v.\n",
    "\n",
    "Nous ne connaissons pas à l'avance la taille N que doivent avoir nos listes pour couvrir l'entièreté du problème, c'est-à-dire jusqu'à ce que la fusée retombe au sol. Néanmoins nous pouvons faire une estimation sur base du problème physique. Chaque étape dure 0.1s et la fusée possède du carburant jusqu'à la 5ème seconde. L'ordre de grandeur du temps mis pour effectuer la trajectoire sera donc compris entre environ 10 secondes et 100 secondes. Comme le nombre d'étapes reste raisonnable et que le calcul n'est pas trop complexe, on peut prendre une borne supérieure de t=100s, ce qui correspond à N=1000.\n",
    "\n",
    "\n",
    "### Définition des fonctions #\n",
    "\n",
    "Pour allÉger le code et pour permettre la réutilisation de celui-ci pour des équations légèrement différentes, nous allons créer trois fonctions:\n",
    "* mp_value(i)  calcule la valeur de mp, la masse de carburant à l'instant t=i*dt \n",
    "* mp_dot(t)  nous permet de disposer de la valeur de $\\dot{mp}$en l'instant t=i*dt\n",
    "* derivativev(i,v0) donne la dérivée de la vitesse v au temps t=i*dt et à une vitesse v0.\n",
    "\n",
    "Pour être tout à fait systématique, nous devrions faire de même pour la dérivée de h, mais cela ne nous semble pas judicieux du point de vue de la clarté étant donnée que cette dérivée est constante."
   ]
  },
  {
   "cell_type": "code",
   "execution_count": 155,
   "metadata": {
    "collapsed": false
   },
   "outputs": [],
   "source": [
    "def mp_value(i):\n",
    "    if i<50:\n",
    "        mp=100.0-20.0*t[i]\n",
    "    else:\n",
    "        mp=0\n",
    "    return mp  "
   ]
  },
  {
   "cell_type": "code",
   "execution_count": 156,
   "metadata": {
    "collapsed": true
   },
   "outputs": [],
   "source": [
    "def mp_dot(i):\n",
    "    if i<50:\n",
    "        mpdot=20.0\n",
    "    else:\n",
    "        mpdot=0.0\n",
    "    return mpdot"
   ]
  },
  {
   "cell_type": "code",
   "execution_count": 157,
   "metadata": {
    "collapsed": true
   },
   "outputs": [],
   "source": [
    "def derivativev(i,v0):\n",
    "    derivativev=(-g+ ((mp_dot(i)/(ms+mp_value(i)))*ve)- ((0.5)*p*v0*abs(v0)*A*CD)/(mp_value(i)+ms))\n",
    "    return derivativev "
   ]
  },
  {
   "cell_type": "markdown",
   "metadata": {},
   "source": [
    "### Calcul des valeurs de h et de v#\n",
    "\n"
   ]
  },
  {
   "cell_type": "code",
   "execution_count": 158,
   "metadata": {
    "collapsed": false
   },
   "outputs": [
    {
     "name": "stdout",
     "output_type": "stream",
     "text": [
      "['0.1', 3.3523333333333336, 0.0]\n",
      "['0.2', 6.7627372378676416, 0.33523333333333338]\n",
      "['0.3', 10.231778919790621, 1.0115070571200975]\n",
      "['0.4', 13.75999567028526, 2.0346849490991596]\n",
      "['0.5', 17.347891577350222, 3.4106845161276858]\n",
      "['0.6', 20.995934026574854, 5.1454736738627078]\n",
      "['0.7', 24.704549981851557, 7.2450670765201934]\n",
      "['0.8', 28.474122037064415, 9.7155220747053495]\n",
      "['0.9', 32.304984229920507, 12.562934278411792]\n",
      "['1.0', 36.197417609299322, 15.793432701403843]\n",
      "['1.1', 40.151645547797578, 19.413174462333775]\n",
      "['1.2', 44.167828791553447, 23.428339017113533]\n",
      "['1.3', 48.246060239959036, 27.845121896268878]\n",
      "['1.4', 52.386359448527102, 32.669727920264783]\n",
      "['1.5', 56.588666848982371, 37.908363865117494]\n",
      "['1.6', 60.852837681615668, 43.567230550015729]\n",
      "['1.7', 65.178635636087492, 49.652514318177296]\n",
      "['1.8', 69.565726198214136, 56.170377881786045]\n",
      "['1.9', 74.01366970183318, 63.12695050160746]\n",
      "['2.0', 78.521914086644799, 70.528317471790785]\n",
      "['2.1', 83.089787364980964, 78.380508880455267]\n",
      "['2.2', 87.7164898027861, 86.689487616953357]\n",
      "['2.3', 92.401085822719836, 95.46113659723197]\n",
      "['2.4', 97.142495640234813, 104.70124517950396]\n",
      "['2.5', 101.93948664675909, 114.41549474352743]\n",
      "['2.6', 106.7906645577407, 124.60944340820335]\n",
      "['2.7', 111.69446434730733, 135.28850986397742]\n",
      "['2.8', 116.64914099567098, 146.45795629870815]\n",
      "['2.9', 121.65276008017472, 158.12287039827527]\n",
      "['3.0', 126.70318824604519, 170.28814640629275]\n",
      "['3.1', 131.79808359847942, 182.95846523089727]\n",
      "['3.2', 136.93488606365639, 196.13827359074523]\n",
      "['3.3', 142.1108077726102, 209.83176219711086]\n",
      "['3.4', 147.32282352861517, 224.04284297437189]\n",
      "['3.5', 152.56766142578564, 238.77512532723341]\n",
      "['3.6', 157.84179369394721, 254.03189146981197]\n",
      "['3.7', 163.14142785244127, 269.8160708392067]\n",
      "['3.8', 168.46249826332024, 286.13021362445085]\n",
      "['3.9', 173.80065818229855, 302.97646345078289]\n",
      "['4.0', 179.15127241375487, 320.35652926901275]\n",
      "['4.1', 184.5094106839253, 338.27165651038825]\n",
      "['4.2', 189.86984185406141, 356.72259757878078]\n",
      "['4.3', 195.22702910261006, 375.70958176418691]\n",
      "['4.4', 200.5751262122447, 395.2322846744479]\n",
      "['4.5', 205.9079751036644, 415.28979729567237]\n",
      "['4.6', 211.21910476328719, 435.8805948060388]\n",
      "['4.7', 216.50173171609163, 457.00250528236751]\n",
      "['4.8', 221.74876219768956, 478.65267845397665]\n",
      "['4.9', 226.95279618102074, 500.82755467374562]\n",
      "['5.0', 232.10613341261794, 523.52283429184774]\n",
      "['5.1', 224.20078161098024, 546.73344763310956]\n",
      "['5.2', 216.75907327432503, 569.15352579420755]\n",
      "['5.3', 209.73913678581138, 590.82943312164002]\n",
      "['5.4', 203.10401910246819, 611.80334680022111]\n",
      "['5.5', 196.82098000432097, 632.11374871046792]\n",
      "['5.6', 190.8609049734583, 651.79584671090004]\n",
      "['5.7', 185.19781399329747, 670.88193720824586]\n",
      "['5.8', 179.80844840875645, 689.40171860757562]\n",
      "['5.9', 174.67192170046386, 707.38256344845126]\n",
      "['6.0', 169.76942289030455, 724.84975561849762]\n",
      "['6.1', 165.08396352197394, 741.82669790752811]\n",
      "['6.2', 160.60016090311416, 758.33509425972557]\n",
      "['6.3', 156.30405166916822, 774.39511035003693]\n",
      "['6.4', 152.18293081844706, 790.02551551695376]\n",
      "['6.5', 148.22521223705419, 805.24380859879852]\n",
      "['6.6', 144.42030742971963, 820.06632982250392]\n",
      "['6.7', 140.7585197352264, 834.50836056547587]\n",
      "['6.8', 137.2309517613518, 848.58421253899849]\n",
      "['6.9', 133.82942414602698, 862.30730771513367]\n",
      "['7.0', 130.54640405579227, 875.69025012973634]\n",
      "['7.1', 127.37494208292976, 888.74489053531556]\n",
      "['7.2', 124.30861640936939, 901.48238474360858]\n",
      "['7.3', 121.34148327688131, 913.91324638454557]\n",
      "['7.4', 118.4680329457674, 926.04739471223365]\n",
      "['7.5', 115.68315044350528, 937.89419800681037]\n",
      "['7.6', 112.9820805047936, 949.46251305116095]\n",
      "['7.7', 110.36039618859478, 960.76072110164034]\n",
      "['7.8', 107.81397072881583, 971.79676072049983]\n",
      "['7.9', 105.33895223544297, 982.57815779338137]\n",
      "['8.0', 102.93174091406952, 993.11205301692564]\n",
      "['8.1', 100.58896851532064, 1003.4052271083326]\n",
      "['8.2', 98.307479762905189, 1013.4641239598647]\n",
      "['8.3', 96.08431554092472, 1023.2948719361551]\n",
      "['8.4', 93.91669764847741, 1032.9033034902475]\n",
      "['8.5', 91.802014953202431, 1042.2949732550953]\n",
      "['8.6', 89.737810795796747, 1051.4751747504156]\n",
      "['8.7', 87.721771515181956, 1060.4489558299952]\n",
      "['8.8', 85.751715979308187, 1069.2211329815134]\n",
      "['8.9', 83.825586019894658, 1077.7963045794443]\n",
      "['9.0', 81.941437681006818, 1086.1788631814338]\n",
      "['9.1', 80.097433201500877, 1094.3730069495346]\n",
      "['9.2', 78.291833660231234, 1102.3827502696847]\n",
      "['9.3', 76.522992220688977, 1110.2119336357077]\n",
      "['9.4', 74.789347918567699, 1117.8642328577766]\n",
      "['9.5', 73.089419941762259, 1125.3431676496334]\n",
      "['9.6', 71.42180235760479, 1132.6521096438096]\n",
      "['9.7', 69.78515924682246, 1139.79428987957]\n",
      "['9.8', 68.178220207842173, 1146.7728058042521]\n",
      "['9.9', 66.599776198737231, 1153.5906278250363]\n",
      "['10.0', 65.048675687368828, 1160.25060544491]\n",
      "['10.1', 63.523821083171313, 1166.7554730136469]\n",
      "['10.2', 62.024165426609287, 1173.1078551219641]\n",
      "['10.3', 60.548709314634458, 1179.3102716646251]\n",
      "['10.4', 59.096498042524246, 1185.3651425960886]\n",
      "['10.5', 57.666618944320817, 1191.2747924003411]\n",
      "['10.6', 56.258198915734575, 1197.0414542947731]\n",
      "['10.7', 54.870402104851159, 1202.6672741863465]\n",
      "['10.8', 53.502427757305846, 1208.1543143968315]\n",
      "['10.9', 52.153508203780127, 1213.504557172562]\n",
      "['11.0', 50.822906978747469, 1218.7199079929401]\n",
      "['11.1', 49.50991706036141, 1223.8021986908147]\n",
      "['11.2', 48.213859222251308, 1228.7531903968509]\n",
      "['11.3', 46.934080488778463, 1233.574576319076]\n",
      "['11.4', 45.669952686017929, 1238.2679843679539]\n",
      "['11.5', 44.420871081376241, 1242.8349796365558]\n",
      "['11.6', 43.186253105339745, 1247.2770667446935]\n",
      "['11.7', 41.965537149378676, 1251.5956920552273]\n",
      "['11.8', 40.758181434513766, 1255.7922457701652]\n",
      "['11.9', 39.563662945489853, 1259.8680639136167]\n",
      "['12.0', 38.381476425899585, 1263.8244302081657]\n",
      "['12.1', 37.211133429962906, 1267.6625778507557]\n",
      "['12.2', 36.052161426998921, 1271.3836911937519]\n",
      "['12.3', 34.904102954928312, 1274.9889073364518]\n",
      "['12.4', 33.766514819420109, 1278.4793176319447]\n",
      "['12.5', 32.638967335548202, 1281.8559691138867]\n",
      "['12.6', 31.521043609053287, 1285.1198658474416]\n",
      "['12.7', 30.412338854516559, 1288.2719702083468]\n",
      "['12.8', 29.312459747944285, 1291.3132040937985]\n",
      "['12.9', 28.22102381143922, 1294.2444500685929]\n",
      "['13.0', 27.137658827796834, 1297.0665524497367]\n",
      "['13.1', 26.062002283012891, 1299.7803183325163]\n",
      "['13.2', 24.993700834825439, 1302.3865185608176]\n",
      "['13.3', 23.932409805539375, 1304.8858886443002]\n",
      "['13.4', 22.877792697496869, 1307.279129624854]\n",
      "['13.5', 21.82952072966253, 1309.5669088946038]\n",
      "['13.6', 20.78727239388931, 1311.7498609675699]\n",
      "['13.7', 19.750733029520362, 1313.8285882069588]\n",
      "['13.8', 18.719594415064027, 1315.8036615099109]\n",
      "['13.9', 17.693554375754509, 1317.6756209514172]\n",
      "['14.0', 16.672316405879926, 1319.4449763889927]\n",
      "['14.1', 15.655589304823039, 1321.1122080295806]\n",
      "['14.2', 14.643086825818189, 1322.6777669600629]\n",
      "['14.3', 13.634527336481501, 1324.1420756426446]\n",
      "['14.4', 12.629633490220328, 1325.5055283762927]\n",
      "['14.5', 11.628131907672755, 1326.7684917253148]\n",
      "['14.6', 10.629752867368813, 1327.9313049160821]\n",
      "['14.7', 9.6342300048423919, 1328.994280202819]\n",
      "['14.8', 8.6413000194566703, 1329.9577032033033]\n",
      "['14.9', 7.650702388236585, 1330.8218332052488]\n",
      "['15.0', 6.6621790860295338, 1331.5869034440725]\n",
      "['15.1', 5.675474311340384, 1332.2531213526754]\n",
      "['15.2', 4.6903342172090081, 1332.8206687838094]\n",
      "['15.3', 3.706506646518207, 1333.2897022055304]\n",
      "['15.4', 2.7237408711370885, 1333.6603528701821]\n",
      "['15.5', 1.7417873343198158, 1333.9327269572959]\n",
      "['15.6', 0.76039739579229104, 1334.1069056907279]\n",
      "['15.7', -0.22067692103021419, 1334.1829454303072]\n",
      "['15.8', -1.2016706618173296, 1334.1608777382041]\n",
      "['15.9', -2.1824850623149596, 1334.0407106720224]\n",
      "['16.0', -3.1628728409928981, 1333.822462165791]\n",
      "['16.1', -4.1425870530318534, 1333.5061748816918]\n",
      "['16.2', -5.1213813391419025, 1333.0919161763886]\n",
      "['16.3', -6.0990101732799946, 1332.5797780424743]\n",
      "['16.4', -7.075229108737374, 1331.9698770251464]\n",
      "['16.5', -8.0497950220733294, 1331.2623541142727]\n",
      "['16.6', -9.0224663543791337, 1330.4573746120655]\n",
      "['16.7', -9.9930033493653454, 1329.5551279766275]\n",
      "['16.8', -10.961168287776797, 1328.5558276416909]\n",
      "['16.9', -11.926725717652481, 1327.4597108129133]\n",
      "['17.0', -12.88944267996215, 1326.2670382411479]\n",
      "['17.1', -13.849088929167635, 1324.9780939731518]\n",
      "['17.2', -14.805437148274653, 1323.5931850802351]\n",
      "['17.3', -15.758263157959966, 1322.1126413654076]\n",
      "['17.4', -16.707346119379341, 1320.5368150496117]\n",
      "['17.5', -17.652468730283381, 1318.8660804376739]\n",
      "['17.6', -18.593417414091199, 1317.1008335646454]\n",
      "['17.7', -19.529982501595647, 1315.2414918232364]\n",
      "['17.8', -20.461958404998587, 1313.2884935730769]\n",
      "['17.9', -21.389143784000016, 1311.2422977325771]\n",
      "['18.0', -22.311341703690996, 1309.1033833541771]\n",
      "['18.1', -23.228359784026836, 1306.872249183808]\n",
      "['18.2', -24.140010340683876, 1304.5494132054052]\n",
      "['18.3', -25.046110517130387, 1302.1354121713368]\n",
      "['18.4', -25.94648240776932, 1299.6308011196238]\n",
      "['18.5', -26.840953172037906, 1297.0361528788469]\n",
      "['18.6', -27.729355139376182, 1294.3520575616431]\n",
      "['18.7', -28.611525905003397, 1291.5791220477054]\n",
      "['18.8', -29.487308416467702, 1288.7179694572051]\n",
      "['18.9', -30.35655105096059, 1285.7692386155584]\n",
      "['19.0', -31.219107683412936, 1282.7335835104623]\n",
      "['19.1', -32.074837745414314, 1279.6116727421211]\n",
      "['19.2', -32.9236062750212, 1276.4041889675796]\n",
      "['19.3', -33.765283957542934, 1273.1118283400774]\n",
      "['19.4', -34.599747157416417, 1269.7352999443231]\n",
      "['19.5', -35.426877941301903, 1266.2753252285813]\n",
      "['19.6', -36.246564092552397, 1262.7326374344511]\n",
      "['19.7', -37.058699117228144, 1259.1079810251958]\n",
      "['19.8', -37.863182241845905, 1255.402111113473]\n",
      "['19.9', -38.659918403069142, 1251.6157928892883]\n",
      "['20.0', -39.448818229561027, 1247.7498010489815]\n",
      "['20.1', -40.22979801623633, 1243.8049192260253]\n",
      "['20.2', -41.002779691161294, 1239.7819394244016]\n",
      "['20.3', -41.767690775362418, 1235.6816614552854]\n",
      "['20.4', -42.524464335815438, 1231.5048923777492]\n",
      "['20.5', -43.273038931895101, 1227.2524459441677]\n",
      "['20.6', -44.013358555574307, 1222.9251420509781]\n",
      "['20.7', -44.745372565667765, 1218.5238061954208]\n",
      "['20.8', -45.469035616420982, 1214.0492689388541]\n",
      "['20.9', -46.184307580749625, 1209.5023653772121]\n",
      "['21.0', -46.891153468437444, 1204.8839346191371]\n",
      "['21.1', -47.58954333960299, 1200.1948192722934]\n",
      "['21.2', -48.279452213746268, 1195.4358649383332]\n",
      "['21.3', -48.960859974686521, 1190.6079197169586]\n",
      "['21.4', -49.633751271700966, 1185.71183371949]\n",
      "['21.5', -50.298115417172603, 1180.7484585923198]\n",
      "['21.6', -50.95394628105204, 1175.7186470506026]\n",
      "['21.7', -51.601242182434653, 1170.6232524224974]\n",
      "['21.8', -52.240005778549794, 1165.463128204254]\n",
      "['21.9', -52.870243951453524, 1160.2391276263991]\n",
      "['22.0', -53.491967692710347, 1154.9521032312537]\n",
      "['22.1', -54.105191986342888, 1149.6029064619827]\n",
      "['22.2', -54.709935690321352, 1144.1923872633483]\n",
      "['22.3', -55.306221416856836, 1138.7213936943162]\n",
      "['22.4', -55.894075411754685, 1133.1907715526306]\n",
      "['22.5', -56.473527433075368, 1127.6013640114552]\n",
      "['22.6', -57.044610629341683, 1121.9540112681477]\n",
      "['22.7', -57.607361417521886, 1116.2495502052136]\n",
      "['22.8', -58.161819361008995, 1110.4888140634614]\n",
      "['22.9', -58.708027047806908, 1104.6726321273604]\n",
      "['23.0', -59.246029969124336, 1098.8018294225797]\n",
      "['23.1', -59.775876398567597, 1092.8772264256672]\n",
      "['23.2', -60.297617272113541, 1086.8996387858106]\n",
      "['23.3', -60.811306069033854, 1080.8698770585993]\n",
      "['23.4', -61.316998693932177, 1074.7887464516959]\n",
      "['23.5', -61.814753360045472, 1068.6570465823027]\n",
      "['23.6', -62.304630473951399, 1062.4755712462982]\n",
      "['23.7', -62.786692521813769, 1056.2451081989029]\n",
      "['23.8', -63.261003957288487, 1049.9664389467216]\n",
      "['23.9', -63.727631091203165, 1043.6403385509927]\n",
      "['24.0', -64.186641983114242, 1037.2675754418724]\n",
      "['24.1', -64.638106334836607, 1030.8489112435609]\n",
      "['24.2', -65.082095386031739, 1024.3851006100772]\n",
      "['24.3', -65.518681811932112, 1017.876891071474]\n",
      "['24.4', -65.947939623271068, 1011.3250228902808]\n",
      "['24.5', -66.369944068479526, 1004.7302289279537]\n",
      "['24.6', -66.784771538203159, 998.09323452110573]\n",
      "['24.7', -67.1924994721861, 991.41475736728546]\n",
      "['24.8', -67.593206268560181, 984.69550742006686]\n",
      "['24.9', -67.986971195571883, 977.93618679321082]\n",
      "['25.0', -68.37387430577256, 971.13748967365359]\n",
      "['25.1', -68.753996352691189, 964.30010224307637]\n",
      "['25.2', -69.127418710003184, 957.42470260780726]\n",
      "['25.3', -69.494223293202907, 950.51196073680694]\n",
      "['25.4', -69.854492483782366, 943.56253840748661]\n",
      "['25.5', -70.208309055913418, 936.57708915910837]\n",
      "['25.6', -70.555756105626216, 929.55625825351706]\n",
      "['25.7', -70.896916982472064, 922.50068264295442]\n",
      "['25.8', -71.231875223654768, 915.41099094470724]\n",
      "['25.9', -71.560714490610621, 908.28780342234177]\n",
      "['26.0', -71.883518508013665, 901.13173197328069]\n",
      "['26.1', -72.200371005179562, 893.94338012247931]\n",
      "['26.2', -72.51135565983806, 886.72334302196134]\n",
      "['26.3', -72.81655604424175, 879.47220745597758]\n",
      "['26.4', -73.11605557357565, 872.19055185155344]\n",
      "['26.5', -73.409937456630331, 864.87894629419588]\n",
      "['26.6', -73.698284648698802, 857.53795254853287]\n",
      "['26.7', -73.98117980665576, 850.16812408366297]\n",
      "['26.8', -74.258705246176063, 842.7700061029974]\n",
      "['26.9', -74.530942901047581, 835.34413557837979]\n",
      "['27.0', -74.797974284532742, 827.89104128827501]\n",
      "['27.1', -75.059880452731534, 820.41124385982175]\n",
      "['27.2', -75.316741969898061, 812.90525581454858]\n",
      "['27.3', -75.568638875661989, 805.37358161755878]\n",
      "['27.4', -75.815650654105326, 797.81671772999255]\n",
      "['27.5', -76.057856204644921, 790.23515266458196]\n",
      "['27.6', -76.2953338146704, 782.62936704411743]\n",
      "['27.7', -76.528161133887252, 774.99983366265042]\n",
      "['27.8', -76.756415150314552, 767.34701754926164]\n",
      "['27.9', -76.980172167887005, 759.67137603423021]\n",
      "['28.0', -77.199507785610962, 751.97335881744152]\n",
      "['28.1', -77.414496878224398, 744.25340803888048]\n",
      "['28.2', -77.62521357831119, 736.51195835105807]\n",
      "['28.3', -77.831731259820288, 728.74943699322694]\n",
      "['28.4', -78.034122522941061, 720.96626386724495]\n",
      "['28.5', -78.232459180286426, 713.1628516149508]\n",
      "['28.6', -78.426812244336247, 705.33960569692215]\n",
      "['28.7', -78.617251916093878, 697.49692447248856]\n",
      "['28.8', -78.803847574909739, 689.63519928087919]\n",
      "['28.9', -78.986667769426276, 681.75481452338818]\n",
      "['29.0', -79.165780209599802, 673.85614774644557]\n",
      "['29.1', -79.341251759755281, 665.93956972548563]\n",
      "['29.2', -79.513148432631169, 658.00544454951012]\n",
      "['29.3', -79.681535384372253, 650.05412970624695]\n",
      "['29.4', -79.846476910429473, 642.08597616780969]\n",
      "['29.5', -80.008036442326485, 634.10132847676675]\n",
      "['29.6', -80.166276545253851, 626.10052483253412]\n",
      "['29.7', -80.321258916452663, 618.08389717800878]\n",
      "['29.8', -80.47304438435043, 610.05177128636353]\n",
      "['29.9', -80.621692908412953, 602.00446684792848]\n",
      "['30.0', -80.767263579677106, 593.94229755708716]\n",
      "['30.1', -80.909814621930238, 585.86557119911947]\n",
      "['30.2', -81.049403393503056, 577.77458973692649]\n",
      "['30.3', -81.186086389643762, 569.66964939757622]\n",
      "['30.4', -81.31991924544235, 561.55104075861186]\n",
      "['30.5', -81.450956739274702, 553.41904883406767]\n",
      "['30.6', -81.579252796737393, 545.27395316014019]\n",
      "['30.7', -81.704860495044883, 537.1160278804665]\n",
      "['30.8', -81.827832067861777, 528.94554183096204]\n",
      "['30.9', -81.948218910543844, 520.76275862417583]\n",
      "['31.0', -82.06607158576233, 512.56793673312143]\n",
      "['31.1', -82.181439829487033, 504.36132957454521]\n",
      "['31.2', -82.294372557304598, 496.14318559159653]\n",
      "['31.3', -82.404917871049236, 487.9137483358661]\n",
      "['31.4', -82.51312306572396, 479.67325654876117]\n",
      "['31.5', -82.61903463669141, 471.42194424218877]\n",
      "['31.6', -82.722698287114042, 463.16004077851966]\n",
      "['31.7', -82.824158935624197, 454.88777094980827]\n",
      "['31.8', -82.923460724205654, 446.60535505624586]\n",
      "['31.9', -83.020647026268605, 438.31300898382528]\n",
      "['32.0', -83.115760454901178, 430.01094428119842]\n",
      "['32.1', -83.20884287128105, 421.69936823570828]\n",
      "['32.2', -83.299935393231578, 413.3784839485802]\n",
      "['32.3', -83.389078403907448, 405.04849040925706]\n",
      "['32.4', -83.476311560595633, 396.70958256886632]\n",
      "['32.5', -83.561673803618021, 388.36195141280677]\n",
      "['32.6', -83.645203365322772, 380.00578403244498]\n",
      "['32.7', -83.72693777915191, 371.6412636959127]\n",
      "['32.8', -83.806913888773522, 363.26856991799752]\n",
      "['32.9', -83.885167857267305, 354.88787852912014]\n",
      "['33.0', -83.961735176352775, 346.49936174339342]\n",
      "['33.1', -84.036650675650066, 338.10318822575812]\n",
      "['33.2', -84.109948531963781, 329.69952315819313]\n",
      "['33.3', -84.181662278580703, 321.28852830499676]\n",
      "['33.4', -84.251824814572799, 312.87036207713868]\n",
      "['33.5', -84.320468414097476, 304.4451795956814]\n",
      "['33.6', -84.387624735687211, 296.01313275427162]\n",
      "['33.7', -84.453324831521471, 287.57437028070291]\n",
      "['33.8', -84.517599156673967, 279.12903779755078]\n",
      "['33.9', -84.580477578328882, 270.67727788188336]\n",
      "['34.0', -84.641989384959928, 262.21923012405045]\n",
      "['34.1', -84.702163295466633, 253.75503118555446]\n",
      "['34.2', -84.761027468262469, 245.28481485600778]\n",
      "['34.3', -84.818609510309841, 236.80871210918153]\n",
      "['34.4', -84.874936486097269, 228.32685115815053]\n",
      "['34.5', -84.930034926554441, 219.8393575095408]\n",
      "['34.6', -84.983930837901013, 211.34635401688536]\n",
      "['34.7', -85.036649710425479, 202.84796093309527]\n",
      "['34.8', -85.088216527190568, 194.34429596205271]\n",
      "['34.9', -85.138655772661906, 185.83547430933365]\n",
      "['35.0', -85.187991441257083, 177.32160873206746]\n",
      "['35.1', -85.236247045812235, 168.80280958794174]\n",
      "['35.2', -85.283445625963765, 160.27918488336053]\n",
      "['35.3', -85.329609756442792, 151.75084032076415]\n",
      "['35.4', -85.374761555280401, 143.21787934511988]\n",
      "['35.5', -85.418922691921637, 134.68040318959186]\n",
      "['35.6', -85.462114395246658, 126.1385109203997]\n",
      "['35.7', -85.504357461497534, 117.59229948087503]\n",
      "['35.8', -85.545672262109278, 109.04186373472527]\n",
      "['35.9', -85.586078751443978, 100.48729650851433]\n",
      "['36.0', -85.625596474426999, 91.92868863336993]\n",
      "['36.1', -85.664244574084364, 83.366128985927233]\n",
      "['36.2', -85.702041798980559, 74.799704528518802]\n",
      "['36.3', -85.739006510556209, 66.229500348620746]\n",
      "['36.4', -85.775156690365023, 57.655599697565123]\n",
      "['36.5', -85.810509947209795, 49.078084028528622]\n",
      "['36.6', -85.845083524177056, 40.497033033807639]\n",
      "['36.7', -85.878894305570299, 31.912524681389932]\n",
      "['36.8', -85.91195882374177, 23.324635250832902]\n",
      "['36.9', -85.944293265822722, 14.733439368458724]\n",
      "['37.0', -85.975913480352403, 6.1390100418764515]\n",
      "['37.1', -86.006834983805916, -2.4585813061587896]\n"
     ]
    }
   ],
   "source": [
    "n=1\n",
    "while h[n-1]>=0.0:\n",
    "    h[n]=h[n-1]+v[n-1]*dt\n",
    "    v[n]=v[n-1]+dt*derivativev(n-1,v[n-1])\n",
    "    t[n]=t[n-1]+dt\n",
    "   \n",
    "    if 3.1<t[n]<3.3:\n",
    "        mass= mp_value(n) #Cela nous sera utile pour répondre à une question du module.\n",
    "\n",
    "    print([(\"%.1f\" % t[n]),v[n],h[n]])\n",
    "    \n",
    "    n=n+1\n"
   ]
  },
  {
   "cell_type": "markdown",
   "metadata": {},
   "source": []
  },
  {
   "cell_type": "code",
   "execution_count": 159,
   "metadata": {
    "collapsed": false
   },
   "outputs": [
    {
     "data": {
      "text/plain": [
       "[<matplotlib.lines.Line2D at 0x7fb787a53860>]"
      ]
     },
     "execution_count": 159,
     "metadata": {},
     "output_type": "execute_result"
    },
    {
     "data": {
      "image/png": "[encoded data removed]",
      "text/plain": [
       "<matplotlib.figure.Figure at 0x7fb787761f28>"
      ]
     },
     "metadata": {},
     "output_type": "display_data"
    }
   ],
   "source": [
    "pyplot.figure(figsize=(10,4))   #set plot size\n",
    "pyplot.ylim(-320,320)             #y-axis plot limits\n",
    "pyplot.tick_params(axis='both', labelsize=14) #increase font size for ticks\n",
    "pyplot.xlabel('t', fontsize=14) #x label\n",
    "pyplot.ylabel('v', fontsize=14) #y label\n",
    "pyplot.plot(t[0:n-1],v[0:n-1], 'k-')"
   ]
  },
  {
   "cell_type": "code",
   "execution_count": 160,
   "metadata": {
    "collapsed": false
   },
   "outputs": [
    {
     "data": {
      "text/plain": [
       "[<matplotlib.lines.Line2D at 0x7fb787726c88>]"
      ]
     },
     "execution_count": 160,
     "metadata": {},
     "output_type": "execute_result"
    },
    {
     "data": {
      "image/png": "[encoded data removed]",
      "text/plain": [
       "<matplotlib.figure.Figure at 0x7fb7879438d0>"
      ]
     },
     "metadata": {},
     "output_type": "display_data"
    }
   ],
   "source": [
    "pyplot.figure(figsize=(10,4))   #set plot size\n",
    "pyplot.ylim(0,1500)             #y-axis plot limits\n",
    "pyplot.tick_params(axis='both', labelsize=14) #increase font size for ticks\n",
    "pyplot.xlabel('t', fontsize=14) #x label\n",
    "pyplot.ylabel('h', fontsize=14) #y label\n",
    "pyplot.plot(t[0:n-1],h[0:n-1], 'k-')"
   ]
  },
  {
   "cell_type": "markdown",
   "metadata": {
    "collapsed": true
   },
   "source": [
    "$\\textbf{Questions:}$\n"
   ]
  },
  {
   "cell_type": "markdown",
   "metadata": {
    "collapsed": true
   },
   "source": [
    "$\\underline{Q1.}$ Quelle masse de carburant la fusée contient-elle à t = 3,2s ?"
   ]
  },
  {
   "cell_type": "code",
   "execution_count": 161,
   "metadata": {
    "collapsed": false
   },
   "outputs": [
    {
     "name": "stdout",
     "output_type": "stream",
     "text": [
      "36.0 kg\n"
     ]
    }
   ],
   "source": [
    "print (mass, 'kg')"
   ]
  },
  {
   "cell_type": "markdown",
   "metadata": {},
   "source": [
    "  "
   ]
  },
  {
   "cell_type": "markdown",
   "metadata": {},
   "source": [
    " $\\underline{Q2.}$ \n",
    " - Quelle est, arrondie à deux décimales, la vitesse maximale atteinte ? "
   ]
  },
  {
   "cell_type": "markdown",
   "metadata": {},
   "source": [
    "Le code suivant retrouve la vitesse maximale en comparant toutes les vitesses strictement positives de la liste v (on se dispense de comparer des vitesses négatives pour éviter de faire exécuter des tâches superflues à l'ordinateur). "
   ]
  },
  {
   "cell_type": "markdown",
   "metadata": {},
   "source": [
    "$\\underline{N.B}$ : Il est évident que la vitesse sera maximale quand la masse de carburant passera à 0kg. Nous aurions pu trouver cette vitesse comme cela, mais nous optons pour une méthode applicable à un cas plus général d'objet envoyé en altitude qui retombe vers le sol. "
   ]
  },
  {
   "cell_type": "code",
   "execution_count": 162,
   "metadata": {
    "collapsed": false
   },
   "outputs": [
    {
     "name": "stdout",
     "output_type": "stream",
     "text": [
      "232.11 m/s\n"
     ]
    }
   ],
   "source": [
    "for j in range(0,n) :\n",
    "    if v[j]>0:\n",
    "        if v[j]>v[j-1]:\n",
    "            vmax=v[j]\n",
    "            tvmax=t[j]\n",
    "            hvmax=h[j]\n",
    "print (round(vmax,2), 'm/s')"
   ]
  },
  {
   "cell_type": "markdown",
   "metadata": {},
   "source": [
    "- A quel instant cette vitesse est-elle atteinte ?"
   ]
  },
  {
   "cell_type": "code",
   "execution_count": 163,
   "metadata": {
    "collapsed": false
   },
   "outputs": [
    {
     "name": "stdout",
     "output_type": "stream",
     "text": [
      "5.0 s\n"
     ]
    }
   ],
   "source": [
    "print (round(tvmax,2), 's')"
   ]
  },
  {
   "cell_type": "markdown",
   "metadata": {},
   "source": [
    "- A quelle altitude est la fusée à cet instant ?"
   ]
  },
  {
   "cell_type": "code",
   "execution_count": 164,
   "metadata": {
    "collapsed": false
   },
   "outputs": [
    {
     "name": "stdout",
     "output_type": "stream",
     "text": [
      "523.52 m\n"
     ]
    }
   ],
   "source": [
    "print (round(hvmax,2), 'm')"
   ]
  },
  {
   "cell_type": "markdown",
   "metadata": {},
   "source": [
    "  "
   ]
  },
  {
   "cell_type": "markdown",
   "metadata": {},
   "source": [
    "\n",
    "$\\underline{Q3.}$ \n",
    " - Quelle est, arrondie à deux décimales, l'altitude maximale atteinte ? "
   ]
  },
  {
   "cell_type": "markdown",
   "metadata": {},
   "source": [
    "De manière similaire à celui utilisé pour déterminer la vitesse maximale, Le code suivant retrouve l'altitude maximale en comparant toutes les altitude de la partie de la liste allant de h= 0 m à l'altitude à la même position que la première occurrence d'une vitesse négative (après ça, nous ne pouvons tomber sur une altitude plus élevée en parcourant la liste). "
   ]
  },
  {
   "cell_type": "code",
   "execution_count": 165,
   "metadata": {
    "collapsed": false
   },
   "outputs": [
    {
     "name": "stdout",
     "output_type": "stream",
     "text": [
      "1334.18 m\n"
     ]
    }
   ],
   "source": [
    "for u in range(0,n) :\n",
    "    if v[u-1]>0:\n",
    "        if h[u]>h[u-1]:\n",
    "            hmax=h[u]\n",
    "            thmax=t[u]\n",
    "print (round(hmax,2), 'm')"
   ]
  },
  {
   "cell_type": "markdown",
   "metadata": {},
   "source": [
    "- A quel instant cette altitude est-elle atteinte ?"
   ]
  },
  {
   "cell_type": "code",
   "execution_count": 166,
   "metadata": {
    "collapsed": false
   },
   "outputs": [
    {
     "name": "stdout",
     "output_type": "stream",
     "text": [
      "15.7 s\n"
     ]
    }
   ],
   "source": [
    "print (round(thmax,2), 's')"
   ]
  },
  {
   "cell_type": "markdown",
   "metadata": {},
   "source": [
    "  "
   ]
  },
  {
   "cell_type": "markdown",
   "metadata": {},
   "source": [
    "\n",
    "$\\underline{Q4.}$ \n",
    " - A quel instant l'impact avec le sol a-t-il lieu ? "
   ]
  },
  {
   "cell_type": "markdown",
   "metadata": {},
   "source": [
    "La boucle qui a permis de construire nos listes de temps, vitesses et altitudes s'est arrêtée à la première occurrence d'un h négatif (au premier instant après l'impact). On doit donc prendre le temps en position [n-1] dans la list t."
   ]
  },
  {
   "cell_type": "code",
   "execution_count": 167,
   "metadata": {
    "collapsed": false
   },
   "outputs": [
    {
     "name": "stdout",
     "output_type": "stream",
     "text": [
      "37.1 s\n"
     ]
    }
   ],
   "source": [
    "print (round(t[n-1],2), 's')"
   ]
  },
  {
   "cell_type": "markdown",
   "metadata": {},
   "source": [
    "- Quelle est la vitesse de l'engin au moment de l'impact ?"
   ]
  },
  {
   "cell_type": "markdown",
   "metadata": {},
   "source": [
    "De même pour v :"
   ]
  },
  {
   "cell_type": "code",
   "execution_count": 168,
   "metadata": {
    "collapsed": false
   },
   "outputs": [
    {
     "name": "stdout",
     "output_type": "stream",
     "text": [
      "-86.01 m/s\n"
     ]
    }
   ],
   "source": [
    "print (round(v[n-1],2), 'm/s')"
   ]
  }
 ],
 "metadata": {
  "anaconda-cloud": {},
  "kernelspec": {
   "display_name": "Python 3",
   "language": "python",
   "name": "python3"
  },
  "language_info": {
   "codemirror_mode": {
    "name": "ipython",
    "version": 3
   },
   "file_extension": ".py",
   "mimetype": "text/x-python",
   "name": "python",
   "nbconvert_exporter": "python",
   "pygments_lexer": "ipython3",
   "version": "3.5.2"
  }
 },
 "nbformat": 4,
 "nbformat_minor": 0
}
